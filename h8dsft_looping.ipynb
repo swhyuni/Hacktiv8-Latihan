{
 "cells": [
  {
   "cell_type": "markdown",
   "metadata": {},
   "source": [
    "# Non-Graded Challenge 2 - Conditions & Loops"
   ]
  },
  {
   "cell_type": "markdown",
   "metadata": {},
   "source": [
    "- Buatlah sebuah list dengan value berupa:\n",
    "numbers=[951,402,984,651,360,69,408,319,601,485,980,507,725,547,544,615,83,165,141,501,263,617,865,575,219,390,984,592,236,105,942,941,386,462,47,418,907,344,236,375,823,566,597,978,328,615,953,345,399,162,758,219,918,237,412,566,826,248,866,950,626,949]\n",
    "- Loop dan print semua angka genap dari list angka diatas dengan rutan yang sama.\n",
    "- Jangan mencetak angka apapun yang muncul setel ahangka 918 berdasarkan posisi angka tersebut padalist diatas.\n",
    "- Tampilkanpesan ”Done”setelah looping berakhir.\n"
   ]
  },
  {
   "cell_type": "code",
   "execution_count": 1,
   "metadata": {},
   "outputs": [
    {
     "name": "stdout",
     "output_type": "stream",
     "text": [
      "Angka = 402\n",
      "Angka = 984\n",
      "Angka = 360\n",
      "Angka = 408\n",
      "Angka = 980\n",
      "Angka = 544\n",
      "Angka = 390\n",
      "Angka = 984\n",
      "Angka = 592\n",
      "Angka = 236\n",
      "Angka = 942\n",
      "Angka = 386\n",
      "Angka = 462\n",
      "Angka = 418\n",
      "Angka = 344\n",
      "Angka = 236\n",
      "Angka = 566\n",
      "Angka = 978\n",
      "Angka = 328\n",
      "Angka = 162\n",
      "Angka = 758\n",
      "Angka = 918\n",
      "DONE\n"
     ]
    }
   ],
   "source": [
    "Number = [951,402,984,651,360,69,408,319,601,485,980,507,725,547,544,615,83,165,141,501,263,617,865,575,219,390,984,592,236,105,942,941,386,462,47,418,907,344,236,375,823,566,597,978,328,615,953,345,399,162,758,219,918,237,412,566,826,248,866,950,626,949]\n",
    "for i in (Number):\n",
    "    if i %2 != 0:\n",
    "        continue\n",
    "    print(f'Angka = {i}') \n",
    "    if i == 918:\n",
    "        break\n",
    "print('DONE')"
   ]
  }
 ],
 "metadata": {
  "kernelspec": {
   "display_name": "Python 3.10.7 64-bit",
   "language": "python",
   "name": "python3"
  },
  "language_info": {
   "codemirror_mode": {
    "name": "ipython",
    "version": 3
   },
   "file_extension": ".py",
   "mimetype": "text/x-python",
   "name": "python",
   "nbconvert_exporter": "python",
   "pygments_lexer": "ipython3",
   "version": "3.10.7"
  },
  "orig_nbformat": 4,
  "vscode": {
   "interpreter": {
    "hash": "5591f2605832b160740231f2510d2dbb1d1e15936a10686c27038ab251cb1772"
   }
  }
 },
 "nbformat": 4,
 "nbformat_minor": 2
}
