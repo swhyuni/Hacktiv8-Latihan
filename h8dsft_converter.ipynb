{
 "cells": [
  {
   "cell_type": "markdown",
   "metadata": {},
   "source": [
    "# FTDS// NGC 3"
   ]
  },
  {
   "cell_type": "code",
   "execution_count": null,
   "metadata": {},
   "outputs": [],
   "source": [
    "# Buatlah sebuah function yang dapat mengkonversi suhu dari kelvin kecelcius, dan celcius kekelvin.\n",
    "# Buatlah sebuah function yang dapat mengkonversi suhu ke fahrenheit. Tambahkan parameter untuk memastikan bahwa argumen yang dimasukan adalah celcius tau kelvin. Panggil function yang pertama jika diperlukan.\n",
    "# Buatlah sebuah function yang dapat mengkonversi suhu dari fahrenheit. \n",
    "# Berikan argumen untuk memastikan bahwa outputny adalah celcius atau kelvin.▪Berikan dokumentasi pada setiap baris kode yang kaliantulis."
   ]
  },
  {
   "cell_type": "code",
   "execution_count": 67,
   "metadata": {},
   "outputs": [
    {
     "name": "stdout",
     "output_type": "stream",
     "text": [
      "Celcius = 303 C\n",
      "Kelvin = -243 K\n"
     ]
    }
   ],
   "source": [
    "# Buatlah sebuah function yang dapat mengkonversi suhu dari kelvin kecelcius, dan celcius kekelvin.\n",
    "index = {\n",
    "    'Kelvin     ': 'K',\n",
    "    'Celcius    ': 'C',\n",
    "    'Fahrenheit ': 'F',\n",
    "    'Reamur     ': 'R'\n",
    "}\n",
    "\n",
    "insertsuhu = (30)\n",
    "insertsatuan = ('K')\n",
    "# kelvin ke celcius\n",
    "for i in (insertsatuan):\n",
    "    if i == 'K' :\n",
    "        print('Celcius =', insertsuhu + 273, 'C')\n",
    "\n",
    "insertsuhu = (30)\n",
    "insertsatuan = ('C')   \n",
    "#celcius ke kelvin\n",
    "for i in (insertsatuan):\n",
    "    if i == 'C':\n",
    "        print('Kelvin =', insertsuhu - 273, 'K')\n"
   ]
  },
  {
   "cell_type": "code",
   "execution_count": 68,
   "metadata": {},
   "outputs": [
    {
     "name": "stdout",
     "output_type": "stream",
     "text": [
      "Fahrenheit = -405.40000000000003 F\n"
     ]
    }
   ],
   "source": [
    "# Buatlah sebuah function yang dapat mengkonversi suhu ke fahrenheit. \n",
    "# Tambahkan parameter untuk memastikan bahwa argumen yang dimasukan adalah celcius atau kelvin. \n",
    "# Panggil function yang pertama jika diperlukan.\n",
    "\n",
    "insertsuhu = (30)\n",
    "insertsatuan = ('K')\n",
    "\n",
    "for i in (insertsatuan):\n",
    "    if i == 'K':\n",
    "        print('Fahrenheit =',((9/5)*(insertsuhu - 273) + 32),'F')\n",
    "    elif i == 'C':\n",
    "        print('Fahrenheit =', ((9/5)* insertsuhu) + 32, 'F')\n",
    "    elif i == 'R':\n",
    "        print('Fahrenheit =', ((9/4)*insertsuhu) + 32, 'F')\n",
    "    else:\n",
    "       print('insertsatuan salah! harus: K/C/R')"
   ]
  },
  {
   "cell_type": "code",
   "execution_count": 69,
   "metadata": {},
   "outputs": [
    {
     "name": "stdout",
     "output_type": "stream",
     "text": [
      "Celcius = -243.0 C\n",
      "Kelvin = 30.0 K\n",
      "Reamur = -194.39999999999998 R\n"
     ]
    }
   ],
   "source": [
    "# Buatlah sebuah function yang dapat mengkonversi suhu dari fahrenheit.\n",
    "insertsuhu = (-405.4)\n",
    "insertsatuan = ('F')\n",
    "for i in (insertsatuan):\n",
    "      if i == 'F':\n",
    "              print('Celcius =',((5/9)*(insertsuhu - 32)),'C')\n",
    "      if i == 'F':\n",
    "              print('Kelvin =', ((5/9)* (insertsuhu - 32)) + 273, 'K')\n",
    "      if i == 'F':\n",
    "              print('Reamur =', ((4/9)*(insertsuhu - 32)), 'R')\n",
    "      else:\n",
    "           print('insertsatuan salah! harus F') \n",
    "\n"
   ]
  }
 ],
 "metadata": {
  "kernelspec": {
   "display_name": "Python 3.10.7 64-bit",
   "language": "python",
   "name": "python3"
  },
  "language_info": {
   "codemirror_mode": {
    "name": "ipython",
    "version": 3
   },
   "file_extension": ".py",
   "mimetype": "text/x-python",
   "name": "python",
   "nbconvert_exporter": "python",
   "pygments_lexer": "ipython3",
   "version": "3.10.7"
  },
  "orig_nbformat": 4,
  "vscode": {
   "interpreter": {
    "hash": "5591f2605832b160740231f2510d2dbb1d1e15936a10686c27038ab251cb1772"
   }
  }
 },
 "nbformat": 4,
 "nbformat_minor": 2
}
